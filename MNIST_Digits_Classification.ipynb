{
  "nbformat": 4,
  "nbformat_minor": 0,
  "metadata": {
    "colab": {
      "provenance": [],
      "gpuType": "T4"
    },
    "kernelspec": {
      "name": "python3",
      "display_name": "Python 3"
    },
    "language_info": {
      "name": "python"
    },
    "accelerator": "GPU"
  },
  "cells": [
    {
      "cell_type": "code",
      "execution_count": 123,
      "metadata": {
        "id": "yFea7vlZncQe"
      },
      "outputs": [],
      "source": [
        "import numpy as np\n",
        "import matplotlib.pyplot as plt\n",
        "%matplotlib inline\n",
        "import tensorflow as tf"
      ]
    },
    {
      "cell_type": "markdown",
      "source": [
        "# Get our Datase from keras"
      ],
      "metadata": {
        "id": "ZR0N-OvRomhQ"
      }
    },
    {
      "cell_type": "code",
      "source": [
        "# from tensorflow.keras.datasets import mnist\n",
        "(x_train, y_train), (x_test, y_test) = tf.keras.datasets.mnist.load_data()"
      ],
      "metadata": {
        "id": "sGcCmezMoMEp"
      },
      "execution_count": 124,
      "outputs": []
    },
    {
      "cell_type": "code",
      "source": [
        "print(x_train.shape, y_train.shape)\n",
        "print(x_test.shape, y_test.shape)"
      ],
      "metadata": {
        "colab": {
          "base_uri": "https://localhost:8080/"
        },
        "id": "6QFXNAtRop5x",
        "outputId": "3f46c78b-5b34-4872-9cf5-3fa74afd9965"
      },
      "execution_count": 125,
      "outputs": [
        {
          "output_type": "stream",
          "name": "stdout",
          "text": [
            "(60000, 28, 28) (60000,)\n",
            "(10000, 28, 28) (10000,)\n"
          ]
        }
      ]
    },
    {
      "cell_type": "markdown",
      "source": [
        "# Let's visualize what we want to do"
      ],
      "metadata": {
        "id": "YXmEN3lxpbgE"
      }
    },
    {
      "cell_type": "code",
      "source": [
        "fig, ax = plt.subplots(1, 10, figsize=(20, 20))\n",
        "\n",
        "for i in range(0, 10):\n",
        "  sample = x_train[y_train == i][0] #Let's get the labels from 0 - 9 as samples\n",
        "  ax[i].imshow(sample, cmap='gray')\n",
        "  ax[i].set_title(\"Class: {}\".format(i), fontsize=16)\n",
        "  ax[i].axis(\"off\")"
      ],
      "metadata": {
        "colab": {
          "base_uri": "https://localhost:8080/",
          "height": 133
        },
        "collapsed": true,
        "id": "U7wnX5Roo1dZ",
        "outputId": "c4bb22f8-37d4-4be8-f8f1-9d5cba99f552"
      },
      "execution_count": 126,
      "outputs": [
        {
          "output_type": "display_data",
          "data": {
            "text/plain": [
              "<Figure size 2000x2000 with 10 Axes>"
            ],
            "image/png": "[encoded data removed]"
          },
          "metadata": {}
        }
      ]
    },
    {
      "cell_type": "markdown",
      "source": [
        "# Pre-process our Data"
      ],
      "metadata": {
        "id": "qrZk9nQfRT0j"
      }
    },
    {
      "cell_type": "markdown",
      "source": [
        "## Convert labels from numbers to categorical (y)"
      ],
      "metadata": {
        "id": "DxcbiPOprhny"
      }
    },
    {
      "cell_type": "code",
      "source": [
        "# Before\n",
        "y_train"
      ],
      "metadata": {
        "colab": {
          "base_uri": "https://localhost:8080/"
        },
        "id": "5dHimgZ61CpC",
        "outputId": "4e4b1515-6588-405e-ec38-90e328904622"
      },
      "execution_count": 127,
      "outputs": [
        {
          "output_type": "execute_result",
          "data": {
            "text/plain": [
              "array([5, 0, 4, ..., 5, 6, 8], dtype=uint8)"
            ]
          },
          "metadata": {},
          "execution_count": 127
        }
      ]
    },
    {
      "cell_type": "code",
      "source": [
        "y_train = tf.keras.utils.to_categorical(y_train, 10) # classes are 0 - 9\n",
        "y_test = tf.keras.utils.to_categorical(y_test, 10)"
      ],
      "metadata": {
        "id": "zKzyFaBbquVy"
      },
      "execution_count": 128,
      "outputs": []
    },
    {
      "cell_type": "code",
      "source": [
        "# After\n",
        "y_train"
      ],
      "metadata": {
        "colab": {
          "base_uri": "https://localhost:8080/"
        },
        "id": "jQARgUux03k0",
        "outputId": "0c3490c2-518c-48df-a7c1-fd8562f0daad"
      },
      "execution_count": 129,
      "outputs": [
        {
          "output_type": "execute_result",
          "data": {
            "text/plain": [
              "array([[0., 0., 0., ..., 0., 0., 0.],\n",
              "       [1., 0., 0., ..., 0., 0., 0.],\n",
              "       [0., 0., 0., ..., 0., 0., 0.],\n",
              "       ...,\n",
              "       [0., 0., 0., ..., 0., 0., 0.],\n",
              "       [0., 0., 0., ..., 0., 0., 0.],\n",
              "       [0., 0., 0., ..., 0., 1., 0.]], dtype=float32)"
            ]
          },
          "metadata": {},
          "execution_count": 129
        }
      ]
    },
    {
      "cell_type": "markdown",
      "source": [
        "## Normalize our Data (X)\n",
        "\n",
        "We do this by converting the color channel values from from 0-255 to 0-1."
      ],
      "metadata": {
        "id": "TH1AkVpm2_2B"
      }
    },
    {
      "cell_type": "code",
      "source": [
        "x_train = x_train / 255.0\n",
        "x_test = x_test / 255.0"
      ],
      "metadata": {
        "id": "NXRtm25F07bN"
      },
      "execution_count": 130,
      "outputs": []
    },
    {
      "cell_type": "markdown",
      "source": [
        "## Reshape our Data (X)"
      ],
      "metadata": {
        "id": "ytnSrAECEr2x"
      }
    },
    {
      "cell_type": "code",
      "source": [
        "x_train.shape"
      ],
      "metadata": {
        "colab": {
          "base_uri": "https://localhost:8080/"
        },
        "id": "9xOC0fJ84nrC",
        "outputId": "bdc787e8-b0d7-4183-96b9-6196a7d4ae94"
      },
      "execution_count": 131,
      "outputs": [
        {
          "output_type": "execute_result",
          "data": {
            "text/plain": [
              "(60000, 28, 28)"
            ]
          },
          "metadata": {},
          "execution_count": 131
        }
      ]
    },
    {
      "cell_type": "code",
      "source": [
        "x_test.shape"
      ],
      "metadata": {
        "colab": {
          "base_uri": "https://localhost:8080/"
        },
        "id": "erI7sj9CO-rE",
        "outputId": "8f50d397-36c5-488a-cb94-78e441d0b74b"
      },
      "execution_count": 132,
      "outputs": [
        {
          "output_type": "execute_result",
          "data": {
            "text/plain": [
              "(10000, 28, 28)"
            ]
          },
          "metadata": {},
          "execution_count": 132
        }
      ]
    },
    {
      "cell_type": "code",
      "source": [
        "x_train = x_train.reshape(60000, -1)\n",
        "x_test = x_test.reshape(10000, -1)"
      ],
      "metadata": {
        "id": "PYPj8Txm3LkP"
      },
      "execution_count": 133,
      "outputs": []
    },
    {
      "cell_type": "code",
      "source": [
        "x_train.shape, x_test.shape"
      ],
      "metadata": {
        "colab": {
          "base_uri": "https://localhost:8080/"
        },
        "id": "fx75MEUhD5RN",
        "outputId": "eb2cd436-8279-472e-8c52-36988b833c86"
      },
      "execution_count": 134,
      "outputs": [
        {
          "output_type": "execute_result",
          "data": {
            "text/plain": [
              "((60000, 784), (10000, 784))"
            ]
          },
          "metadata": {},
          "execution_count": 134
        }
      ]
    },
    {
      "cell_type": "markdown",
      "source": [
        "# Create our Model"
      ],
      "metadata": {
        "id": "B9-sDnayE8DI"
      }
    },
    {
      "cell_type": "code",
      "source": [
        "model = tf.keras.models.Sequential([\n",
        "    tf.keras.layers.Dense(units=128, input_shape=(784,), activation='relu'),\n",
        "    tf.keras.layers.Dense(units=128, activation='relu'),\n",
        "    tf.keras.layers.Dropout(0.25), # 25% of our neurons will be deactivated during training to mitigate overfitting\n",
        "    tf.keras.layers.Dense(units=10, activation='softmax')]\n",
        ")\n",
        "\n",
        "model.compile(loss='categorical_crossentropy', optimizer='adam', metrics=['accuracy'])\n",
        "model.summary()\n",
        "\n",
        "\n"
      ],
      "metadata": {
        "colab": {
          "base_uri": "https://localhost:8080/"
        },
        "id": "SxLvY8YeEEJ0",
        "outputId": "f603ba39-7039-45c8-f787-5f63e1b9363e"
      },
      "execution_count": 135,
      "outputs": [
        {
          "output_type": "stream",
          "name": "stdout",
          "text": [
            "Model: \"sequential_5\"\n",
            "_________________________________________________________________\n",
            " Layer (type)                Output Shape              Param #   \n",
            "=================================================================\n",
            " dense_21 (Dense)            (None, 128)               100480    \n",
            "                                                                 \n",
            " dense_22 (Dense)            (None, 128)               16512     \n",
            "                                                                 \n",
            " dropout_7 (Dropout)         (None, 128)               0         \n",
            "                                                                 \n",
            " dense_23 (Dense)            (None, 10)                1290      \n",
            "                                                                 \n",
            "=================================================================\n",
            "Total params: 118282 (462.04 KB)\n",
            "Trainable params: 118282 (462.04 KB)\n",
            "Non-trainable params: 0 (0.00 Byte)\n",
            "_________________________________________________________________\n"
          ]
        }
      ]
    },
    {
      "cell_type": "markdown",
      "source": [
        "# Train our Model"
      ],
      "metadata": {
        "id": "3ynSK7egOXdt"
      }
    },
    {
      "cell_type": "code",
      "source": [
        "BATCH_SIZE = 512\n",
        "epochs=10\n",
        "model.fit(x=x_train, y=y_train, batch_size=BATCH_SIZE, epochs=epochs)"
      ],
      "metadata": {
        "colab": {
          "base_uri": "https://localhost:8080/"
        },
        "id": "izSMmQyxHecF",
        "outputId": "e1956fcf-e2b9-4734-be6b-867fe6b94fb8"
      },
      "execution_count": 136,
      "outputs": [
        {
          "output_type": "stream",
          "name": "stdout",
          "text": [
            "Epoch 1/10\n",
            "118/118 [==============================] - 3s 15ms/step - loss: 0.6200 - accuracy: 0.8199\n",
            "Epoch 2/10\n",
            "118/118 [==============================] - 2s 15ms/step - loss: 0.2247 - accuracy: 0.9339\n",
            "Epoch 3/10\n",
            "118/118 [==============================] - 1s 10ms/step - loss: 0.1643 - accuracy: 0.9519\n",
            "Epoch 4/10\n",
            "118/118 [==============================] - 1s 9ms/step - loss: 0.1320 - accuracy: 0.9613\n",
            "Epoch 5/10\n",
            "118/118 [==============================] - 1s 9ms/step - loss: 0.1073 - accuracy: 0.9690\n",
            "Epoch 6/10\n",
            "118/118 [==============================] - 1s 9ms/step - loss: 0.0893 - accuracy: 0.9733\n",
            "Epoch 7/10\n",
            "118/118 [==============================] - 1s 9ms/step - loss: 0.0784 - accuracy: 0.9764\n",
            "Epoch 8/10\n",
            "118/118 [==============================] - 1s 9ms/step - loss: 0.0681 - accuracy: 0.9797\n",
            "Epoch 9/10\n",
            "118/118 [==============================] - 1s 9ms/step - loss: 0.0599 - accuracy: 0.9819\n",
            "Epoch 10/10\n",
            "118/118 [==============================] - 1s 9ms/step - loss: 0.0534 - accuracy: 0.9840\n"
          ]
        },
        {
          "output_type": "execute_result",
          "data": {
            "text/plain": [
              "<keras.src.callbacks.History at 0x7a8d4442c400>"
            ]
          },
          "metadata": {},
          "execution_count": 136
        }
      ]
    },
    {
      "cell_type": "markdown",
      "source": [
        "# Use Model to predict given Images"
      ],
      "metadata": {
        "id": "wkwIWvPlPf9q"
      }
    },
    {
      "cell_type": "code",
      "source": [
        "loss, accuracy = model.evaluate(x_test, y_test)\n",
        "print(\"Loss:\", loss, \"Accuracy\", accuracy)"
      ],
      "metadata": {
        "colab": {
          "base_uri": "https://localhost:8080/"
        },
        "id": "b4nKedtMPWjp",
        "outputId": "a659a453-1faf-4a6f-9d62-20a8609c6fb7"
      },
      "execution_count": 137,
      "outputs": [
        {
          "output_type": "stream",
          "name": "stdout",
          "text": [
            "313/313 [==============================] - 1s 2ms/step - loss: 0.0720 - accuracy: 0.9772\n",
            "Loss: 0.07200454920530319 Accuracy 0.9771999716758728\n"
          ]
        }
      ]
    },
    {
      "cell_type": "markdown",
      "source": [
        "Good result, now let's predict some dataset, for now let's try the x_test again"
      ],
      "metadata": {
        "id": "3Nx1Qs5XSbUQ"
      }
    },
    {
      "cell_type": "code",
      "source": [
        "pred = model.predict(x_test) # this outputs the probability not the actual class\n",
        "pred = np.argmax(pred, axis=1) # Take the index of of the position with the highest probability\n",
        "print(pred)\n"
      ],
      "metadata": {
        "colab": {
          "base_uri": "https://localhost:8080/"
        },
        "id": "EzBfnyIkP2Z_",
        "outputId": "f38790e4-0ede-4512-edc0-26090665b115"
      },
      "execution_count": 138,
      "outputs": [
        {
          "output_type": "stream",
          "name": "stdout",
          "text": [
            "313/313 [==============================] - 1s 2ms/step\n",
            "[7 2 1 ... 4 5 6]\n"
          ]
        }
      ]
    },
    {
      "cell_type": "code",
      "source": [
        "def show_25_images(images, labels):\n",
        "  \"\"\"\n",
        "  Displays a plot of 25 images and their labels\n",
        "  \"\"\"\n",
        "  # Setup the figure\n",
        "  plt.figure(figsize=(10, 10))\n",
        "\n",
        "  # Loop through 25 (for displaying 25 images)\n",
        "  for i in range(25):\n",
        "\n",
        "    # Create subplots (5 rows, 5 columns)\n",
        "    ax = plt.subplot(5, 5, i+1)\n",
        "\n",
        "    # Display an image\n",
        "    plt.imshow(images[i], cmap='gray')\n",
        "\n",
        "    # Add the image label as the title\n",
        "    plt.title('Prediction: {}'.format(labels[i]))\n",
        "\n",
        "    # Turn the grid lines off\n",
        "    plt.axis(\"off\")"
      ],
      "metadata": {
        "id": "GRqeP7QBQjEB"
      },
      "execution_count": 146,
      "outputs": []
    },
    {
      "cell_type": "code",
      "source": [
        "#reshape x_train back to its original shape\n",
        "x_test= x_test.reshape(10000, 28, 28)"
      ],
      "metadata": {
        "id": "k_PH5_ifVAka"
      },
      "execution_count": 140,
      "outputs": []
    },
    {
      "cell_type": "code",
      "source": [
        "show_25_images(x_test, pred)"
      ],
      "metadata": {
        "colab": {
          "base_uri": "https://localhost:8080/",
          "height": 829
        },
        "id": "24eMa06mRu_q",
        "outputId": "c7d43265-b06e-4372-f622-f69c3e055fec"
      },
      "execution_count": 141,
      "outputs": [
        {
          "output_type": "display_data",
          "data": {
            "text/plain": [
              "<Figure size 1000x1000 with 25 Axes>"
            ],
            "image/png": "[encoded data removed]"
          },
          "metadata": {}
        }
      ]
    },
    {
      "cell_type": "markdown",
      "source": [
        "# Let's see how well is our Model predicting the images"
      ],
      "metadata": {
        "id": "W4hu5aNpdv09"
      }
    },
    {
      "cell_type": "code",
      "source": [
        "y_test"
      ],
      "metadata": {
        "colab": {
          "base_uri": "https://localhost:8080/"
        },
        "id": "Xw5iaqxhbbcG",
        "outputId": "7c5a4f40-29db-48ea-ae74-5f14bc1d7d99"
      },
      "execution_count": 142,
      "outputs": [
        {
          "output_type": "execute_result",
          "data": {
            "text/plain": [
              "array([[0., 0., 0., ..., 1., 0., 0.],\n",
              "       [0., 0., 1., ..., 0., 0., 0.],\n",
              "       [0., 1., 0., ..., 0., 0., 0.],\n",
              "       ...,\n",
              "       [0., 0., 0., ..., 0., 0., 0.],\n",
              "       [0., 0., 0., ..., 0., 0., 0.],\n",
              "       [0., 0., 0., ..., 0., 0., 0.]], dtype=float32)"
            ]
          },
          "metadata": {},
          "execution_count": 142
        }
      ]
    },
    {
      "cell_type": "code",
      "source": [
        "pred"
      ],
      "metadata": {
        "colab": {
          "base_uri": "https://localhost:8080/"
        },
        "id": "ry7pClgVcki6",
        "outputId": "20f70d77-04e9-423b-9dda-1cd9f8b4ca30"
      },
      "execution_count": 143,
      "outputs": [
        {
          "output_type": "execute_result",
          "data": {
            "text/plain": [
              "array([7, 2, 1, ..., 4, 5, 6])"
            ]
          },
          "metadata": {},
          "execution_count": 143
        }
      ]
    },
    {
      "cell_type": "markdown",
      "source": [
        "Let's convert y_test back to its numerical values (0, 1, 2, etc...)"
      ],
      "metadata": {
        "id": "Ldzw4PZld6aP"
      }
    },
    {
      "cell_type": "code",
      "source": [
        "true_label = np.argmax(y_test, axis=1)"
      ],
      "metadata": {
        "id": "hobDQ1EKdeFF"
      },
      "execution_count": 144,
      "outputs": []
    },
    {
      "cell_type": "code",
      "source": [
        "from sklearn.metrics import confusion_matrix\n",
        "import seaborn as sns\n",
        "\n",
        "cm = confusion_matrix(true_label, pred)\n",
        "\n",
        "sns.heatmap(cm, annot=True, fmt=\"d\")\n",
        "plt.xlabel('Predicted labels')\n",
        "plt.ylabel('True labels')\n"
      ],
      "metadata": {
        "colab": {
          "base_uri": "https://localhost:8080/",
          "height": 467
        },
        "id": "YeRQhAOZX597",
        "outputId": "6622922f-40a4-43eb-f9c1-35ab32c3a658"
      },
      "execution_count": 145,
      "outputs": [
        {
          "output_type": "execute_result",
          "data": {
            "text/plain": [
              "Text(50.722222222222214, 0.5, 'True labels')"
            ]
          },
          "metadata": {},
          "execution_count": 145
        },
        {
          "output_type": "display_data",
          "data": {
            "text/plain": [
              "<Figure size 640x480 with 2 Axes>"
            ],
            "image/png": "[encoded data removed]"
          },
          "metadata": {}
        }
      ]
    },
    {
      "cell_type": "markdown",
      "source": [
        "Looks like our model is predicting the labels pretty accurately overall."
      ],
      "metadata": {
        "id": "TC2mx9_neGfc"
      }
    },
    {
      "cell_type": "code",
      "source": [],
      "metadata": {
        "id": "JxV3TXlxeKjv"
      },
      "execution_count": 145,
      "outputs": []
    }
  ]
}